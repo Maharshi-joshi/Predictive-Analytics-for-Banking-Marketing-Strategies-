{
 "cells": [
  {
   "cell_type": "code",
   "execution_count": 1,
   "id": "0b1ade1a",
   "metadata": {},
   "outputs": [
    {
     "data": {
      "text/html": [
       "<div>\n",
       "<style scoped>\n",
       "    .dataframe tbody tr th:only-of-type {\n",
       "        vertical-align: middle;\n",
       "    }\n",
       "\n",
       "    .dataframe tbody tr th {\n",
       "        vertical-align: top;\n",
       "    }\n",
       "\n",
       "    .dataframe thead th {\n",
       "        text-align: right;\n",
       "    }\n",
       "</style>\n",
       "<table border=\"1\" class=\"dataframe\">\n",
       "  <thead>\n",
       "    <tr style=\"text-align: right;\">\n",
       "      <th></th>\n",
       "      <th>age</th>\n",
       "      <th>job</th>\n",
       "      <th>marital</th>\n",
       "      <th>education</th>\n",
       "      <th>default</th>\n",
       "      <th>balance</th>\n",
       "      <th>housing</th>\n",
       "      <th>loan</th>\n",
       "      <th>contact</th>\n",
       "      <th>day</th>\n",
       "      <th>month</th>\n",
       "      <th>duration</th>\n",
       "      <th>campaign</th>\n",
       "      <th>pdays</th>\n",
       "      <th>previous</th>\n",
       "      <th>poutcome</th>\n",
       "      <th>y</th>\n",
       "    </tr>\n",
       "  </thead>\n",
       "  <tbody>\n",
       "    <tr>\n",
       "      <th>0</th>\n",
       "      <td>58</td>\n",
       "      <td>management</td>\n",
       "      <td>married</td>\n",
       "      <td>tertiary</td>\n",
       "      <td>no</td>\n",
       "      <td>2143</td>\n",
       "      <td>yes</td>\n",
       "      <td>no</td>\n",
       "      <td>unknown</td>\n",
       "      <td>5</td>\n",
       "      <td>may</td>\n",
       "      <td>261</td>\n",
       "      <td>1</td>\n",
       "      <td>-1</td>\n",
       "      <td>0</td>\n",
       "      <td>unknown</td>\n",
       "      <td>no</td>\n",
       "    </tr>\n",
       "    <tr>\n",
       "      <th>1</th>\n",
       "      <td>44</td>\n",
       "      <td>technician</td>\n",
       "      <td>single</td>\n",
       "      <td>secondary</td>\n",
       "      <td>no</td>\n",
       "      <td>29</td>\n",
       "      <td>yes</td>\n",
       "      <td>no</td>\n",
       "      <td>unknown</td>\n",
       "      <td>5</td>\n",
       "      <td>may</td>\n",
       "      <td>151</td>\n",
       "      <td>1</td>\n",
       "      <td>-1</td>\n",
       "      <td>0</td>\n",
       "      <td>unknown</td>\n",
       "      <td>no</td>\n",
       "    </tr>\n",
       "    <tr>\n",
       "      <th>2</th>\n",
       "      <td>33</td>\n",
       "      <td>entrepreneur</td>\n",
       "      <td>married</td>\n",
       "      <td>secondary</td>\n",
       "      <td>no</td>\n",
       "      <td>2</td>\n",
       "      <td>yes</td>\n",
       "      <td>yes</td>\n",
       "      <td>unknown</td>\n",
       "      <td>5</td>\n",
       "      <td>may</td>\n",
       "      <td>76</td>\n",
       "      <td>1</td>\n",
       "      <td>-1</td>\n",
       "      <td>0</td>\n",
       "      <td>unknown</td>\n",
       "      <td>no</td>\n",
       "    </tr>\n",
       "    <tr>\n",
       "      <th>3</th>\n",
       "      <td>47</td>\n",
       "      <td>blue-collar</td>\n",
       "      <td>married</td>\n",
       "      <td>unknown</td>\n",
       "      <td>no</td>\n",
       "      <td>1506</td>\n",
       "      <td>yes</td>\n",
       "      <td>no</td>\n",
       "      <td>unknown</td>\n",
       "      <td>5</td>\n",
       "      <td>may</td>\n",
       "      <td>92</td>\n",
       "      <td>1</td>\n",
       "      <td>-1</td>\n",
       "      <td>0</td>\n",
       "      <td>unknown</td>\n",
       "      <td>no</td>\n",
       "    </tr>\n",
       "    <tr>\n",
       "      <th>4</th>\n",
       "      <td>33</td>\n",
       "      <td>unknown</td>\n",
       "      <td>single</td>\n",
       "      <td>unknown</td>\n",
       "      <td>no</td>\n",
       "      <td>1</td>\n",
       "      <td>no</td>\n",
       "      <td>no</td>\n",
       "      <td>unknown</td>\n",
       "      <td>5</td>\n",
       "      <td>may</td>\n",
       "      <td>198</td>\n",
       "      <td>1</td>\n",
       "      <td>-1</td>\n",
       "      <td>0</td>\n",
       "      <td>unknown</td>\n",
       "      <td>no</td>\n",
       "    </tr>\n",
       "  </tbody>\n",
       "</table>\n",
       "</div>"
      ],
      "text/plain": [
       "   age           job  marital  education default  balance housing loan  \\\n",
       "0   58    management  married   tertiary      no     2143     yes   no   \n",
       "1   44    technician   single  secondary      no       29     yes   no   \n",
       "2   33  entrepreneur  married  secondary      no        2     yes  yes   \n",
       "3   47   blue-collar  married    unknown      no     1506     yes   no   \n",
       "4   33       unknown   single    unknown      no        1      no   no   \n",
       "\n",
       "   contact  day month  duration  campaign  pdays  previous poutcome   y  \n",
       "0  unknown    5   may       261         1     -1         0  unknown  no  \n",
       "1  unknown    5   may       151         1     -1         0  unknown  no  \n",
       "2  unknown    5   may        76         1     -1         0  unknown  no  \n",
       "3  unknown    5   may        92         1     -1         0  unknown  no  \n",
       "4  unknown    5   may       198         1     -1         0  unknown  no  "
      ]
     },
     "execution_count": 1,
     "metadata": {},
     "output_type": "execute_result"
    }
   ],
   "source": [
    "import pandas as pd\n",
    "data_train = pd.read_csv(\"train.csv\")\n",
    "data_test = pd.read_csv('test.csv')\n",
    "data_train.head()"
   ]
  },
  {
   "cell_type": "code",
   "execution_count": 3,
   "id": "40a05d87",
   "metadata": {},
   "outputs": [
    {
     "data": {
      "text/html": [
       "<div>\n",
       "<style scoped>\n",
       "    .dataframe tbody tr th:only-of-type {\n",
       "        vertical-align: middle;\n",
       "    }\n",
       "\n",
       "    .dataframe tbody tr th {\n",
       "        vertical-align: top;\n",
       "    }\n",
       "\n",
       "    .dataframe thead th {\n",
       "        text-align: right;\n",
       "    }\n",
       "</style>\n",
       "<table border=\"1\" class=\"dataframe\">\n",
       "  <thead>\n",
       "    <tr style=\"text-align: right;\">\n",
       "      <th></th>\n",
       "      <th>age</th>\n",
       "      <th>balance</th>\n",
       "      <th>day</th>\n",
       "      <th>duration</th>\n",
       "      <th>campaign</th>\n",
       "      <th>pdays</th>\n",
       "      <th>previous</th>\n",
       "    </tr>\n",
       "  </thead>\n",
       "  <tbody>\n",
       "    <tr>\n",
       "      <th>count</th>\n",
       "      <td>45211.000000</td>\n",
       "      <td>45211.000000</td>\n",
       "      <td>45211.000000</td>\n",
       "      <td>45211.000000</td>\n",
       "      <td>45211.000000</td>\n",
       "      <td>45211.000000</td>\n",
       "      <td>45211.000000</td>\n",
       "    </tr>\n",
       "    <tr>\n",
       "      <th>mean</th>\n",
       "      <td>40.936210</td>\n",
       "      <td>1362.272058</td>\n",
       "      <td>15.806419</td>\n",
       "      <td>258.163080</td>\n",
       "      <td>2.763841</td>\n",
       "      <td>40.197828</td>\n",
       "      <td>0.580323</td>\n",
       "    </tr>\n",
       "    <tr>\n",
       "      <th>std</th>\n",
       "      <td>10.618762</td>\n",
       "      <td>3044.765829</td>\n",
       "      <td>8.322476</td>\n",
       "      <td>257.527812</td>\n",
       "      <td>3.098021</td>\n",
       "      <td>100.128746</td>\n",
       "      <td>2.303441</td>\n",
       "    </tr>\n",
       "    <tr>\n",
       "      <th>min</th>\n",
       "      <td>18.000000</td>\n",
       "      <td>-8019.000000</td>\n",
       "      <td>1.000000</td>\n",
       "      <td>0.000000</td>\n",
       "      <td>1.000000</td>\n",
       "      <td>-1.000000</td>\n",
       "      <td>0.000000</td>\n",
       "    </tr>\n",
       "    <tr>\n",
       "      <th>25%</th>\n",
       "      <td>33.000000</td>\n",
       "      <td>72.000000</td>\n",
       "      <td>8.000000</td>\n",
       "      <td>103.000000</td>\n",
       "      <td>1.000000</td>\n",
       "      <td>-1.000000</td>\n",
       "      <td>0.000000</td>\n",
       "    </tr>\n",
       "    <tr>\n",
       "      <th>50%</th>\n",
       "      <td>39.000000</td>\n",
       "      <td>448.000000</td>\n",
       "      <td>16.000000</td>\n",
       "      <td>180.000000</td>\n",
       "      <td>2.000000</td>\n",
       "      <td>-1.000000</td>\n",
       "      <td>0.000000</td>\n",
       "    </tr>\n",
       "    <tr>\n",
       "      <th>75%</th>\n",
       "      <td>48.000000</td>\n",
       "      <td>1428.000000</td>\n",
       "      <td>21.000000</td>\n",
       "      <td>319.000000</td>\n",
       "      <td>3.000000</td>\n",
       "      <td>-1.000000</td>\n",
       "      <td>0.000000</td>\n",
       "    </tr>\n",
       "    <tr>\n",
       "      <th>max</th>\n",
       "      <td>95.000000</td>\n",
       "      <td>102127.000000</td>\n",
       "      <td>31.000000</td>\n",
       "      <td>4918.000000</td>\n",
       "      <td>63.000000</td>\n",
       "      <td>871.000000</td>\n",
       "      <td>275.000000</td>\n",
       "    </tr>\n",
       "  </tbody>\n",
       "</table>\n",
       "</div>"
      ],
      "text/plain": [
       "                age        balance           day      duration      campaign  \\\n",
       "count  45211.000000   45211.000000  45211.000000  45211.000000  45211.000000   \n",
       "mean      40.936210    1362.272058     15.806419    258.163080      2.763841   \n",
       "std       10.618762    3044.765829      8.322476    257.527812      3.098021   \n",
       "min       18.000000   -8019.000000      1.000000      0.000000      1.000000   \n",
       "25%       33.000000      72.000000      8.000000    103.000000      1.000000   \n",
       "50%       39.000000     448.000000     16.000000    180.000000      2.000000   \n",
       "75%       48.000000    1428.000000     21.000000    319.000000      3.000000   \n",
       "max       95.000000  102127.000000     31.000000   4918.000000     63.000000   \n",
       "\n",
       "              pdays      previous  \n",
       "count  45211.000000  45211.000000  \n",
       "mean      40.197828      0.580323  \n",
       "std      100.128746      2.303441  \n",
       "min       -1.000000      0.000000  \n",
       "25%       -1.000000      0.000000  \n",
       "50%       -1.000000      0.000000  \n",
       "75%       -1.000000      0.000000  \n",
       "max      871.000000    275.000000  "
      ]
     },
     "execution_count": 3,
     "metadata": {},
     "output_type": "execute_result"
    }
   ],
   "source": [
    "# Summary statistics for numerical variables\n",
    "summary_stats = data_train.describe()\n",
    "\n",
    "# Display summary statistics\n",
    "summary_stats\n"
   ]
  },
  {
   "cell_type": "markdown",
   "id": "8e67cf88",
   "metadata": {},
   "source": [
    "# What is the overall subscription rate for term deposits?"
   ]
  },
  {
   "cell_type": "code",
   "execution_count": 7,
   "id": "13edec9c",
   "metadata": {},
   "outputs": [
    {
     "name": "stdout",
     "output_type": "stream",
     "text": [
      "Overall Subscription Rate: 11.70%\n",
      "Testing Set Subscription Rate: 11.52%\n"
     ]
    }
   ],
   "source": [
    "import pandas as pd\n",
    "\n",
    "# Assuming your dataset is stored in a variable named 'df'\n",
    "# df = pd.read_csv('your_dataset.csv')  # Load your dataset if not already loaded\n",
    "\n",
    "# Calculate the overall subscription rate\n",
    "subscription_rate = data_train['y'].value_counts(normalize=True)['yes']\n",
    "\n",
    "# Display the result\n",
    "print(f\"Overall Subscription Rate: {subscription_rate:.2%}\")\n",
    "\n",
    "# Calculate the overall subscription rate for the testing set\n",
    "test_subscription_rate = data_test['y'].value_counts(normalize=True)['yes']\n",
    "print(f\"Testing Set Subscription Rate: {test_subscription_rate:.2%}\")"
   ]
  },
  {
   "cell_type": "markdown",
   "id": "51f29f0f",
   "metadata": {},
   "source": [
    "# Which demographic groups are more likely to subscribe to term deposits?"
   ]
  },
  {
   "cell_type": "code",
   "execution_count": 15,
   "id": "e3fec727",
   "metadata": {},
   "outputs": [
    {
     "data": {
      "image/png": "[encoded data removed]",
      "text/plain": [
       "<Figure size 720x432 with 1 Axes>"
      ]
     },
     "metadata": {
      "needs_background": "light"
     },
     "output_type": "display_data"
    },
    {
     "data": {
      "image/png": "[encoded data removed]",
      "text/plain": [
       "<Figure size 720x432 with 1 Axes>"
      ]
     },
     "metadata": {
      "needs_background": "light"
     },
     "output_type": "display_data"
    },
    {
     "data": {
      "image/png": "[encoded data removed]",
      "text/plain": [
       "<Figure size 720x432 with 1 Axes>"
      ]
     },
     "metadata": {
      "needs_background": "light"
     },
     "output_type": "display_data"
    },
    {
     "data": {
      "image/png": "[encoded data removed]",
      "text/plain": [
       "<Figure size 720x432 with 1 Axes>"
      ]
     },
     "metadata": {
      "needs_background": "light"
     },
     "output_type": "display_data"
    }
   ],
   "source": [
    "import matplotlib.pyplot as plt\n",
    "import seaborn as sns\n",
    "import pandas as pd\n",
    "\n",
    "\n",
    "# Sample mappings from numerical codes to descriptive labels\n",
    "# You will need to replace these with the actual mappings from your dataset\n",
    "job_mapping = {1: 'Admin', 2: 'Blue-collar', 3: 'Entrepreneur', 4: 'Housemaid', 5: 'Management', 6: 'Retired', 7: 'Self-employed', 8: 'Services', 9: 'Student', 10: 'Technician', 11: 'Unemployed', 12: 'Unknown'}\n",
    "marital_mapping = {1: 'Divorced', 2: 'Married', 3: 'Single'}\n",
    "education_mapping = {1: 'Primary Education', 2: 'Secondary Education', 3: 'Tertiary Education', 4: 'Unknown'}\n",
    "\n",
    "# Map the numerical codes to descriptive labels\n",
    "data_train['job_label'] = data_train['job'].map(job_mapping)\n",
    "data_train['marital_label'] = data_train['marital'].map(marital_mapping)\n",
    "data_train['education_label'] = data_train['education'].map(education_mapping)\n",
    "\n",
    "# Assuming 'y' is the column indicating subscription status ('yes' or 'no')\n",
    "# Convert 'y' to numeric if not already done\n",
    "data_train['y_numeric'] = data_train['y'].apply(lambda x: 1 if x == 'yes' else 0)\n",
    "\n",
    "# Analyzing subscription rates across different jobs\n",
    "plt.figure(figsize=(10, 6))\n",
    "job_plot = sns.barplot(x='job', y='y_numeric', data=data_train)\n",
    "job_plot.set_xticklabels(job_plot.get_xticklabels(), rotation=45)  # Automatically use job labels from dataset\n",
    "plt.title('Subscription Rate by Job')\n",
    "plt.ylabel('Subscription Rate')\n",
    "plt.xlabel('Job')\n",
    "plt.show()\n",
    "\n",
    "# Analyzing subscription rates across different marital statuses\n",
    "plt.figure(figsize=(10, 6))\n",
    "marital_plot = sns.barplot(x='marital', y='y_numeric', data=data_train)\n",
    "marital_plot.set_xticklabels(marital_plot.get_xticklabels())  # Automatically use marital status labels from dataset\n",
    "plt.title('Subscription Rate by Marital Status')\n",
    "plt.ylabel('Subscription Rate')\n",
    "plt.xlabel('Marital Status')\n",
    "plt.show()\n",
    "\n",
    "# Analyzing subscription rates across different education levels\n",
    "plt.figure(figsize=(10, 6))\n",
    "education_plot = sns.barplot(x='education', y='y_numeric', data=data_train)\n",
    "education_plot.set_xticklabels(education_plot.get_xticklabels())  # Automatically use education labels from dataset\n",
    "plt.title('Subscription Rate by Education')\n",
    "plt.ylabel('Subscription Rate')\n",
    "plt.xlabel('Education')\n",
    "plt.show()\n",
    "\n",
    "# Analyzing subscription rates by age groups\n",
    "# Creating age groups for better visualization\n",
    "data_train['age_group'] = pd.cut(data_train['age'], bins=[0, 30, 40, 50, 60, 100], labels=['<30', '30-40', '40-50', '50-60', '>60'])\n",
    "plt.figure(figsize=(10, 6))\n",
    "age_plot = sns.barplot(x='age_group', y='y_numeric', data=data_train)\n",
    "plt.title('Subscription Rate by Age Group')\n",
    "plt.ylabel('Subscription Rate')\n",
    "plt.xlabel('Age Group')\n",
    "plt.show()\n"
   ]
  },
  {
   "cell_type": "markdown",
   "id": "7a0012f2",
   "metadata": {},
   "source": [
    "# How does the communication type (contact) impact subscription rates?"
   ]
  },
  {
   "cell_type": "code",
   "execution_count": 25,
   "id": "cafdc52c",
   "metadata": {},
   "outputs": [
    {
     "name": "stdout",
     "output_type": "stream",
     "text": [
      "Training Set:\n",
      "Subscription Rates based on Contact:\n",
      "contact\n",
      "cellular     0.149189\n",
      "telephone    0.134205\n",
      "unknown      0.040707\n",
      "Name: y, dtype: float64\n",
      "\n",
      "Testing Set:\n",
      "Subscription Rates based on Contact:\n",
      "contact\n",
      "cellular     0.143646\n",
      "telephone    0.146179\n",
      "unknown      0.046073\n",
      "Name: y, dtype: float64\n"
     ]
    }
   ],
   "source": [
    "# Function to calculate subscription rates for different communication types\n",
    "def calculate_subscription_rates_by_contact(data):\n",
    "    # Calculate subscription rates based on communication type\n",
    "    subscription_rates = data.groupby('contact')['y'].value_counts(normalize=True)[:, 'yes']\n",
    "    print(\"Subscription Rates based on Contact:\")\n",
    "    print(subscription_rates)\n",
    "\n",
    "# Calculate subscription rates for the training set\n",
    "print(\"Training Set:\")\n",
    "calculate_subscription_rates_by_contact(data_train)\n",
    "\n",
    "# Calculate subscription rates for the testing set\n",
    "print(\"\\nTesting Set:\")\n",
    "calculate_subscription_rates_by_contact(data_test)"
   ]
  },
  {
   "cell_type": "markdown",
   "id": "43a95458",
   "metadata": {},
   "source": [
    "# What is the distribution of contact durations for clients who subscribed compared to those who did not?"
   ]
  },
  {
   "cell_type": "code",
   "execution_count": 26,
   "id": "c6c5d4f9",
   "metadata": {},
   "outputs": [
    {
     "data": {
      "image/png": "[encoded data removed]",
      "text/plain": [
       "<Figure size 720x432 with 1 Axes>"
      ]
     },
     "metadata": {
      "needs_background": "light"
     },
     "output_type": "display_data"
    },
    {
     "data": {
      "image/png": "[encoded data removed]",
      "text/plain": [
       "<Figure size 720x432 with 1 Axes>"
      ]
     },
     "metadata": {
      "needs_background": "light"
     },
     "output_type": "display_data"
    }
   ],
   "source": [
    "import pandas as pd\n",
    "import matplotlib.pyplot as plt\n",
    "import seaborn as sns\n",
    "\n",
    "\n",
    "\n",
    "# Function to visualize contact duration distribution for subscribed and non-subscribed clients\n",
    "def visualize_contact_duration_distribution(data, title):\n",
    "    plt.figure(figsize=(10, 6))\n",
    "    \n",
    "    # Plot distribution for clients who subscribed\n",
    "    sns.histplot(data[data['y'] == 'yes']['duration'], kde=True, label='Subscribed', color='green', bins=30)\n",
    "    \n",
    "    # Plot distribution for clients who did not subscribe\n",
    "    sns.histplot(data[data['y'] == 'no']['duration'], kde=True, label='Not Subscribed', color='red', bins=30)\n",
    "    \n",
    "    plt.title(title)\n",
    "    plt.xlabel('Contact Duration (seconds)')\n",
    "    plt.ylabel('Frequency')\n",
    "    plt.legend()\n",
    "    plt.show()\n",
    "\n",
    "# Visualize contact duration distribution for the training set\n",
    "visualize_contact_duration_distribution(data_train, 'Contact Duration Distribution (Training Set)')\n",
    "\n",
    "# Visualize contact duration distribution for the testing set\n",
    "visualize_contact_duration_distribution(data_test, 'Contact Duration Distribution (Testing Set)')\n"
   ]
  },
  {
   "cell_type": "markdown",
   "id": "be7f42d1",
   "metadata": {},
   "source": [
    "# Are clients with housing or personal loans more or less likely to subscribe to term deposits?"
   ]
  },
  {
   "cell_type": "code",
   "execution_count": 28,
   "id": "25b78097",
   "metadata": {},
   "outputs": [
    {
     "name": "stdout",
     "output_type": "stream",
     "text": [
      "\n",
      "Subscription Rates based on housing:\n",
      "housing\n",
      "no     0.167024\n",
      "yes    0.077000\n",
      "Name: y, dtype: float64\n",
      "\n",
      "Subscription Rates based on loan:\n",
      "loan\n",
      "no     0.126557\n",
      "yes    0.066814\n",
      "Name: y, dtype: float64\n",
      "\n",
      "Subscription Rates based on housing:\n",
      "housing\n",
      "no     0.153415\n",
      "yes    0.085971\n",
      "Name: y, dtype: float64\n",
      "\n",
      "Subscription Rates based on loan:\n",
      "loan\n",
      "no     0.124804\n",
      "yes    0.062229\n",
      "Name: y, dtype: float64\n"
     ]
    }
   ],
   "source": [
    "import pandas as pd\n",
    "\n",
    "\n",
    "\n",
    "# Function to calculate subscription rates based on loan types\n",
    "def calculate_subscription_rates_by_loans(data, loan_type, title):\n",
    "    subscription_rates = data.groupby(loan_type)['y'].value_counts(normalize=True)[:, 'yes']\n",
    "    print(f\"\\nSubscription Rates based on {loan_type}:\")\n",
    "    print(subscription_rates)\n",
    "\n",
    "# Calculate subscription rates for clients with housing loans in the training set\n",
    "calculate_subscription_rates_by_loans(data_train, 'housing', 'Subscription Rates for Clients with Housing Loans (Training Set)')\n",
    "\n",
    "# Calculate subscription rates for clients without housing loans in the training set\n",
    "calculate_subscription_rates_by_loans(data_train, 'loan', 'Subscription Rates for Clients without Housing Loans (Training Set)')\n",
    "\n",
    "# Calculate subscription rates for clients with housing loans in the testing set\n",
    "calculate_subscription_rates_by_loans(data_test, 'housing', 'Subscription Rates for Clients with Housing Loans (Testing Set)')\n",
    "\n",
    "# Calculate subscription rates for clients without housing loans in the testing set\n",
    "calculate_subscription_rates_by_loans(data_test, 'loan', 'Subscription Rates for Clients without Housing Loans (Testing Set)')\n"
   ]
  },
  {
   "cell_type": "markdown",
   "id": "a6fd0913",
   "metadata": {},
   "source": [
    "# How do previous marketing campaign outcomes (poutcome) influence current subscription rates?"
   ]
  },
  {
   "cell_type": "code",
   "execution_count": 29,
   "id": "2cf58359",
   "metadata": {},
   "outputs": [
    {
     "name": "stdout",
     "output_type": "stream",
     "text": [
      "\n",
      "Subscription Rates based on Previous Campaign Outcome:\n",
      "poutcome\n",
      "failure    0.126097\n",
      "other      0.166848\n",
      "success    0.647253\n",
      "unknown    0.091615\n",
      "Name: y, dtype: float64\n",
      "\n",
      "Subscription Rates based on Previous Campaign Outcome:\n",
      "poutcome\n",
      "failure    0.128571\n",
      "other      0.192893\n",
      "success    0.643411\n",
      "unknown    0.090958\n",
      "Name: y, dtype: float64\n"
     ]
    }
   ],
   "source": [
    "import pandas as pd\n",
    "\n",
    "\n",
    "\n",
    "# Function to calculate subscription rates based on previous campaign outcomes\n",
    "def calculate_subscription_rates_by_poutcome(data, title):\n",
    "    subscription_rates = data.groupby('poutcome')['y'].value_counts(normalize=True)[:, 'yes']\n",
    "    print(f\"\\nSubscription Rates based on Previous Campaign Outcome:\")\n",
    "    print(subscription_rates)\n",
    "\n",
    "# Calculate subscription rates for different outcomes of previous campaigns in the training set\n",
    "calculate_subscription_rates_by_poutcome(data_train, 'Subscription Rates based on Previous Campaign Outcome (Training Set)')\n",
    "\n",
    "# Calculate subscription rates for different outcomes of previous campaigns in the testing set\n",
    "calculate_subscription_rates_by_poutcome(data_test, 'Subscription Rates based on Previous Campaign Outcome (Testing Set)')\n"
   ]
  },
  {
   "cell_type": "markdown",
   "id": "c1132159",
   "metadata": {},
   "source": [
    "# What is the average number of days since the last contact (pdays) for clients who subscribed compared to those who did not?"
   ]
  },
  {
   "cell_type": "code",
   "execution_count": 30,
   "id": "12e02448",
   "metadata": {},
   "outputs": [
    {
     "name": "stdout",
     "output_type": "stream",
     "text": [
      "\n",
      "Average Days since the Last Contact - Subscribed: 68.70 days\n",
      "Average Days since the Last Contact - Not Subscribed: 36.42 days\n",
      "\n",
      "Average Days since the Last Contact - Subscribed: 68.64 days\n",
      "Average Days since the Last Contact - Not Subscribed: 36.01 days\n"
     ]
    }
   ],
   "source": [
    "import pandas as pd\n",
    "\n",
    "\n",
    "# Function to calculate average days since the last contact for subscribed and non-subscribed clients\n",
    "def calculate_average_pdays(data, title):\n",
    "    # Calculate average days since the last contact for clients who subscribed\n",
    "    subscribed_avg_pdays = data[data['y'] == 'yes']['pdays'].mean()\n",
    "\n",
    "    # Calculate average days since the last contact for clients who did not subscribe\n",
    "    not_subscribed_avg_pdays = data[data['y'] == 'no']['pdays'].mean()\n",
    "\n",
    "    print(f\"\\nAverage Days since the Last Contact - Subscribed: {subscribed_avg_pdays:.2f} days\")\n",
    "    print(f\"Average Days since the Last Contact - Not Subscribed: {not_subscribed_avg_pdays:.2f} days\")\n",
    "\n",
    "# Calculate average days since the last contact for the training set\n",
    "calculate_average_pdays(data_train, 'Average Days since the Last Contact (Training Set)')\n",
    "\n",
    "# Calculate average days since the last contact for the testing set\n",
    "calculate_average_pdays(data_test, 'Average Days since the Last Contact (Testing Set)')\n"
   ]
  },
  {
   "cell_type": "markdown",
   "id": "05bea823",
   "metadata": {},
   "source": [
    "# Is there a correlation between the balance in a client's account and their likelihood of subscribing to a term deposit?"
   ]
  },
  {
   "cell_type": "code",
   "execution_count": 31,
   "id": "36df21e2",
   "metadata": {},
   "outputs": [
    {
     "data": {
      "image/png": "[encoded data removed]",
      "text/plain": [
       "<Figure size 720x432 with 1 Axes>"
      ]
     },
     "metadata": {
      "needs_background": "light"
     },
     "output_type": "display_data"
    },
    {
     "data": {
      "image/png": "[encoded data removed]",
      "text/plain": [
       "<Figure size 720x432 with 1 Axes>"
      ]
     },
     "metadata": {
      "needs_background": "light"
     },
     "output_type": "display_data"
    }
   ],
   "source": [
    "import pandas as pd\n",
    "import matplotlib.pyplot as plt\n",
    "import seaborn as sns\n",
    "\n",
    "\n",
    "\n",
    "# Function to visualize the relationship between account balance and subscription status\n",
    "def visualize_balance_vs_subscription(data, title):\n",
    "    plt.figure(figsize=(10, 6))\n",
    "    \n",
    "    # Plot boxplot to visualize the distribution of account balance for subscribed and non-subscribed clients\n",
    "    sns.boxplot(x='y', y='balance', data=data, palette='Set2')\n",
    "    \n",
    "    plt.title(title)\n",
    "    plt.xlabel('Subscription Status')\n",
    "    plt.ylabel('Account Balance')\n",
    "    plt.show()\n",
    "\n",
    "# Visualize the relationship between account balance and subscription status for the training set\n",
    "visualize_balance_vs_subscription(data_train, 'Relationship between Account Balance and Subscription Status (Training Set)')\n",
    "\n",
    "# Visualize the relationship between account balance and subscription status for the testing set\n",
    "visualize_balance_vs_subscription(data_test, 'Relationship between Account Balance and Subscription Status (Testing Set)')\n"
   ]
  },
  {
   "cell_type": "markdown",
   "id": "8a72c04d",
   "metadata": {},
   "source": [
    "# How does the month and day of the week of the last contact influence subscription rates?"
   ]
  },
  {
   "cell_type": "code",
   "execution_count": 35,
   "id": "76b759be",
   "metadata": {},
   "outputs": [
    {
     "name": "stdout",
     "output_type": "stream",
     "text": [
      "\n",
      "Best Three month for Subscription Rates:\n",
      "month\n",
      "mar    0.519916\n",
      "dec    0.467290\n",
      "sep    0.464594\n",
      "Name: y, dtype: float64\n",
      "\n",
      "Worst Three month for Subscription Rates:\n",
      "month\n",
      "jan    0.101212\n",
      "jul    0.090935\n",
      "may    0.067195\n",
      "Name: y, dtype: float64\n",
      "\n",
      "Best Three day for Subscription Rates:\n",
      "day\n",
      "1     0.279503\n",
      "10    0.230916\n",
      "30    0.173052\n",
      "Name: y, dtype: float64\n",
      "\n",
      "Worst Three day for Subscription Rates:\n",
      "day\n",
      "31    0.071540\n",
      "20    0.069767\n",
      "19    0.069437\n",
      "Name: y, dtype: float64\n",
      "\n",
      "Best Three month for Subscription Rates:\n",
      "month\n",
      "oct    0.462500\n",
      "dec    0.450000\n",
      "mar    0.428571\n",
      "Name: y, dtype: float64\n",
      "\n",
      "Worst Three month for Subscription Rates:\n",
      "month\n",
      "nov    0.100257\n",
      "jul    0.086402\n",
      "may    0.066524\n",
      "Name: y, dtype: float64\n",
      "\n",
      "Best Three day for Subscription Rates:\n",
      "day\n",
      "1     0.370370\n",
      "10    0.280000\n",
      "24    0.222222\n",
      "Name: y, dtype: float64\n",
      "\n",
      "Worst Three day for Subscription Rates:\n",
      "day\n",
      "31    0.067797\n",
      "20    0.058366\n",
      "29    0.057143\n",
      "Name: y, dtype: float64\n"
     ]
    }
   ],
   "source": [
    "import pandas as pd\n",
    "import matplotlib.pyplot as plt\n",
    "import seaborn as sns\n",
    "\n",
    "\n",
    "\n",
    "# Function to get the best and worst three for each category\n",
    "def get_best_and_worst(data, time_column, title):\n",
    "    subscription_rates = data.groupby(time_column)['y'].value_counts(normalize=True)[:, 'yes']\n",
    "    \n",
    "    # Sort the subscription rates\n",
    "    sorted_rates = subscription_rates.sort_values(ascending=False)\n",
    "    \n",
    "    # Get the best and worst three\n",
    "    best_three = sorted_rates.head(3)\n",
    "    worst_three = sorted_rates.tail(3)\n",
    "    \n",
    "    print(f\"\\nBest Three {time_column} for Subscription Rates:\")\n",
    "    print(best_three)\n",
    "    \n",
    "    print(f\"\\nWorst Three {time_column} for Subscription Rates:\")\n",
    "    print(worst_three)\n",
    "\n",
    "# Get the best and worst three months for the training set\n",
    "get_best_and_worst(data_train, 'month', 'Best and Worst Three Months for Subscription Rates (Training Set)')\n",
    "\n",
    "# Get the best and worst three days of the week for the training set\n",
    "get_best_and_worst(data_train, 'day', 'Best and Worst Three Days of the Week for Subscription Rates (Training Set)')\n",
    "\n",
    "# Get the best and worst three months for the testing set\n",
    "get_best_and_worst(data_test, 'month', 'Best and Worst Three Months for Subscription Rates (Testing Set)')\n",
    "\n",
    "# Get the best and worst three days of the week for the testing set\n",
    "get_best_and_worst(data_test, 'day', 'Best and Worst Three Days of the Week for Subscription Rates (Testing Set)')\n"
   ]
  },
  {
   "cell_type": "markdown",
   "id": "d557b1be",
   "metadata": {},
   "source": [
    "# Which features have the most significant impact on predicting term deposit subscriptions?"
   ]
  },
  {
   "cell_type": "code",
   "execution_count": 5,
   "id": "6af49f61",
   "metadata": {},
   "outputs": [
    {
     "name": "stdout",
     "output_type": "stream",
     "text": [
      "Model Accuracy: 1.0\n",
      "           importance\n",
      "duration     0.290735\n",
      "balance      0.110094\n",
      "age          0.102841\n",
      "day          0.090124\n",
      "month        0.087655\n",
      "poutcome     0.054070\n",
      "job          0.048932\n",
      "pdays        0.048895\n",
      "campaign     0.037817\n",
      "education    0.027977\n",
      "housing      0.025519\n",
      "marital      0.021824\n",
      "previous     0.021358\n",
      "contact      0.020250\n",
      "loan         0.010162\n",
      "default      0.001747\n"
     ]
    }
   ],
   "source": [
    "from sklearn.ensemble import RandomForestClassifier\n",
    "from sklearn.metrics import accuracy_score\n",
    "from sklearn.preprocessing import LabelEncoder\n",
    "import pandas as pd\n",
    "\n",
    "# Converting 'y' to numeric format: 'yes' to 1 and 'no' to 0 in both data_train and data_test\n",
    "data_train['y_numeric'] = data_train['y'].apply(lambda x: 1 if x == 'yes' else 0)\n",
    "data_test['y_numeric'] = data_test['y'].apply(lambda x: 1 if x == 'yes' else 0)\n",
    "\n",
    "# Preprocessing: Encoding categorical variables in both data_train and data_test datasets\n",
    "categorical_features = data_train.select_dtypes(include=['object']).columns.drop('y')\n",
    "for feature in categorical_features:\n",
    "    le = LabelEncoder()\n",
    "    data_train[feature] = le.fit_transform(data_train[feature])\n",
    "    data_test[feature] = le.transform(data_test[feature])\n",
    "\n",
    "# Features and target variable setup\n",
    "# Excluding 'y_numeric' from the features\n",
    "X_train = data_train.drop(['y', 'y_numeric'], axis=1)\n",
    "y_train = data_train['y_numeric']\n",
    "X_test = data_test.drop(['y', 'y_numeric'], axis=1)\n",
    "y_test = data_test['y_numeric']\n",
    "\n",
    "# Training the Random Forest model\n",
    "rf_model = RandomForestClassifier(n_estimators=100, random_state=42)\n",
    "rf_model.fit(X_train, y_train)\n",
    "\n",
    "# Making predictions on the test set\n",
    "y_pred = rf_model.predict(X_test)\n",
    "\n",
    "# Calculating the accuracy\n",
    "accuracy = accuracy_score(y_test, y_pred)\n",
    "print(f\"Model Accuracy: {accuracy}\")\n",
    "\n",
    "# Determining feature importance\n",
    "feature_importances = pd.DataFrame(rf_model.feature_importances_,\n",
    "                                   index=X_train.columns,\n",
    "                                   columns=['importance']).sort_values('importance', ascending=False)\n",
    "\n",
    "# Displaying the feature importances\n",
    "print(feature_importances)\n"
   ]
  },
  {
   "cell_type": "code",
   "execution_count": 6,
   "id": "bfefb1a0",
   "metadata": {},
   "outputs": [],
   "source": [
    "# Exclude 'duration' from the features\n",
    "X = data_train.drop(['y', 'y_numeric', 'duration'], axis=1)\n",
    "y = data_train['y_numeric']\n",
    "\n",
    "\n"
   ]
  },
  {
   "cell_type": "code",
   "execution_count": 9,
   "id": "27e33752",
   "metadata": {},
   "outputs": [
    {
     "name": "stdout",
     "output_type": "stream",
     "text": [
      "CV Accuracy: Mean = 0.8922607518752781, Std = 0.001967917016801525\n",
      "CV Precision: Mean = 0.6164490091775978, Std = 0.025550057746870237\n",
      "CV Recall: Mean = 0.20968071350775191, Std = 0.010050436759687727\n",
      "CV F1: Mean = 0.3128257455094504, Std = 0.013358544181704742\n",
      "CV Roc_auc: Mean = 0.7837826958551419, Std = 0.00866620191643928\n"
     ]
    }
   ],
   "source": [
    "from sklearn.model_selection import cross_validate\n",
    "from sklearn.metrics import make_scorer, accuracy_score, precision_score, recall_score, f1_score, roc_auc_score\n",
    "import numpy as np\n",
    "\n",
    "# Initialize the Random Forest model\n",
    "model = RandomForestClassifier(n_estimators=100, random_state=42)\n",
    "\n",
    "# Define scoring metrics\n",
    "scoring = {'accuracy': make_scorer(accuracy_score),\n",
    "           'precision': make_scorer(precision_score, zero_division=0),\n",
    "           'recall': make_scorer(recall_score),\n",
    "           'f1': make_scorer(f1_score),\n",
    "           'roc_auc': 'roc_auc'}\n",
    "\n",
    "# Perform cross-validation\n",
    "cv_results = cross_validate(model, X, y, cv=cv, scoring=scoring, return_train_score=False, n_jobs=-1)\n",
    "\n",
    "# Display the results\n",
    "for metric in scoring.keys():\n",
    "    print(f\"CV {metric.capitalize()}: Mean = {np.mean(cv_results['test_' + metric])}, Std = {np.std(cv_results['test_' + metric])}\")\n"
   ]
  },
  {
   "cell_type": "code",
   "execution_count": null,
   "id": "189687a6",
   "metadata": {},
   "outputs": [],
   "source": []
  }
 ],
 "metadata": {
  "kernelspec": {
   "display_name": "Python 3 (ipykernel)",
   "language": "python",
   "name": "python3"
  },
  "language_info": {
   "codemirror_mode": {
    "name": "ipython",
    "version": 3
   },
   "file_extension": ".py",
   "mimetype": "text/x-python",
   "name": "python",
   "nbconvert_exporter": "python",
   "pygments_lexer": "ipython3",
   "version": "3.9.5"
  }
 },
 "nbformat": 4,
 "nbformat_minor": 5
}
